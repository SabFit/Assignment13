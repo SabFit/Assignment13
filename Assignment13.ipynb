{
 "cells": [
  {
   "cell_type": "markdown",
   "id": "3f6d30d5-e8c8-497a-8a0c-d164bbd87884",
   "metadata": {},
   "source": [
    "1. What advantages do Excel spreadsheets have over CSV spreadsheets?"
   ]
  },
  {
   "cell_type": "markdown",
   "id": "4b28bc6e-3320-4b04-90c9-43c6c5453ff5",
   "metadata": {},
   "source": [
    "Ans .Excel can perform VBA Coding, functions, formulas, and create summaries easily when compared to CSV. CSV cannot perform VBA Coding, functions, formulas, and create summaries easily when compared to Excel."
   ]
  },
  {
   "cell_type": "markdown",
   "id": "59e5c11c-5bf5-4607-933d-8d0669b39e1e",
   "metadata": {},
   "source": [
    "2.What do you pass to csv.reader() and csv.writer() to create reader and writer objects?"
   ]
  },
  {
   "cell_type": "markdown",
   "id": "80e78995-7ca3-4159-8ed2-59eb277b0aa7",
   "metadata": {},
   "source": [
    "ans . csv.reader ()  pass it 'r' to open a file in write mode"
   ]
  },
  {
   "cell_type": "markdown",
   "id": "72ed4c87-716d-4e79-a13f-4bfb17e51f8e",
   "metadata": {},
   "source": [
    "ans . csv.writer ()  pass it 'w' to open a file in write mode"
   ]
  },
  {
   "cell_type": "markdown",
   "id": "e52b37e6-acba-4f85-8a5a-2ef4dcdb34df",
   "metadata": {},
   "source": [
    "3. What modes do File objects for reader and writer objects need to be opened in?"
   ]
  },
  {
   "cell_type": "markdown",
   "id": "c9a6af4e-ad01-4e03-941f-6f0e151bf28d",
   "metadata": {},
   "source": [
    "Ans r is to read file object, w is to write in the file objects"
   ]
  },
  {
   "cell_type": "markdown",
   "id": "6cc91e9b-8aad-40e6-b9b5-d2c2b649ed3e",
   "metadata": {},
   "source": [
    "4. What method takes a list argument and writes it to a CSV file?"
   ]
  },
  {
   "cell_type": "markdown",
   "id": "ba7b9e5f-2113-4c3d-879f-554e88640355",
   "metadata": {},
   "source": [
    "Ans .We can convert a list to CSV in python easily by importing an in-built CSV module in python. In this method, we use file handling in python to read the data of a list and then write it into a CSV file."
   ]
  },
  {
   "cell_type": "markdown",
   "id": "f79f20cd-b323-49a0-8e5a-e300c6c75fd3",
   "metadata": {},
   "source": [
    "5. What do the keyword arguments delimiter and line terminator do?"
   ]
  },
  {
   "cell_type": "markdown",
   "id": "a45aa952-559b-4ce9-bd72-065437480850",
   "metadata": {},
   "source": [
    "Ans.This changes the delimiter and line terminator characters in your file. The delimiter is the character that appears between cells on a row. By default, the delimiter for a CSV file is a comma. The line terminator is the character that comes at the end of a row"
   ]
  },
  {
   "cell_type": "markdown",
   "id": "89a76891-b977-4b27-b167-0dabde2616fb",
   "metadata": {},
   "source": [
    "6. What function takes a string of JSON data and returns a Python data structure?"
   ]
  },
  {
   "cell_type": "markdown",
   "id": "7b1125b3-9029-4cf1-8a32-d1cf3107db8f",
   "metadata": {},
   "source": [
    "Ans.json.loads()"
   ]
  },
  {
   "cell_type": "markdown",
   "id": "793da6c3-5d73-490d-8fac-e9714f492588",
   "metadata": {},
   "source": [
    "7. What function takes a Python data structure and returns a string of JSON data?"
   ]
  },
  {
   "cell_type": "markdown",
   "id": "abf74d90-bd16-4e4f-b597-c4c1e69c8a25",
   "metadata": {},
   "source": [
    "Ans.json.dumps()"
   ]
  },
  {
   "cell_type": "code",
   "execution_count": null,
   "id": "64059778-8bfe-4fdb-b8d3-e56a8bf3a6de",
   "metadata": {},
   "outputs": [],
   "source": []
  }
 ],
 "metadata": {
  "kernelspec": {
   "display_name": "Python 3 (ipykernel)",
   "language": "python",
   "name": "python3"
  },
  "language_info": {
   "codemirror_mode": {
    "name": "ipython",
    "version": 3
   },
   "file_extension": ".py",
   "mimetype": "text/x-python",
   "name": "python",
   "nbconvert_exporter": "python",
   "pygments_lexer": "ipython3",
   "version": "3.10.6"
  }
 },
 "nbformat": 4,
 "nbformat_minor": 5
}
